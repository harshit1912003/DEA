{
 "cells": [
  {
   "cell_type": "code",
   "execution_count": 1,
   "metadata": {},
   "outputs": [],
   "source": [
    "from models import DEA\n",
    "import numpy as np\n",
    "import time\n",
    "import seaborn as sns\n",
    "import matplotlib.pyplot as plt\n",
    "\n",
    "from is_efficient import is_efficient\n",
    "from utils import arr2matrix, initializeUnif, df2latex, handle_commas, round_elements, plot, plot3d, plotwithfrontier, perpendicular_distance, extend_line\n",
    "from utils import find_intersection, plot_fdh, initializeZ, load_results\n",
    "from scipy.stats import norm\n",
    "\n",
    "from scipy.stats import norm\n",
    "from li_test import li_test\n"
   ]
  },
  {
   "cell_type": "code",
   "execution_count": 2,
   "metadata": {},
   "outputs": [
    {
     "name": "stdout",
     "output_type": "stream",
     "text": [
      "Set parameter WLSAccessID\n",
      "Set parameter WLSSecret\n",
      "Set parameter LicenseID to value 2579375\n",
      "Academic license 2579375 - for non-commercial use only - registered to ma___@iitd.ac.in\n"
     ]
    }
   ],
   "source": [
    "l, m = initializeUnif(50, 1, 1)\n",
    "dea3 = DEA(l, m)\n",
    "bcc=dea3.bcc_input()\n",
    "eff_bcc=bcc['efficiency']\n",
    "vrs=dea3.fdh_input_vrs()\n",
    "eff_vrs=vrs['efficiency']\n",
    "data_FDH = np.array(eff_vrs).reshape(-1, 1)  \n",
    "data_DEA = np.array(eff_bcc).reshape(-1, 1)  \n"
   ]
  },
  {
   "cell_type": "code",
   "execution_count": 3,
   "metadata": {},
   "outputs": [
    {
     "data": {
      "text/plain": [
       "(np.float64(0.62), np.float64(0.8086344757059881))"
      ]
     },
     "execution_count": 3,
     "metadata": {},
     "output_type": "execute_result"
    }
   ],
   "source": [
    "li_test(data_FDH, data_DEA, continuous_idx=[0], discrete_idx=[],alpha=0.05, n_boot=400)"
   ]
  },
  {
   "cell_type": "code",
   "execution_count": 4,
   "metadata": {},
   "outputs": [
    {
     "data": {
      "text/plain": [
       "(np.float64(0.795), np.float64(-0.34528174400808187))"
      ]
     },
     "execution_count": 4,
     "metadata": {},
     "output_type": "execute_result"
    }
   ],
   "source": [
    "litter(data_FDH, data_DEA, continuous_idx=[0], discrete_idx=[],alpha=0.05, n_boot=400)"
   ]
  },
  {
   "cell_type": "code",
   "execution_count": 5,
   "metadata": {},
   "outputs": [
    {
     "data": {
      "text/plain": [
       "(np.float64(0.7075), np.float64(-0.7105282969864423))"
      ]
     },
     "execution_count": 5,
     "metadata": {},
     "output_type": "execute_result"
    }
   ],
   "source": [
    "litteeerrr(data_FDH, data_DEA, continuous_idx=[0], discrete_idx=[],alpha=0.05, n_boot=400)"
   ]
  },
  {
   "cell_type": "code",
   "execution_count": 9,
   "metadata": {},
   "outputs": [
    {
     "data": {
      "text/plain": [
       "(0.48, 22.186247298808116)"
      ]
     },
     "execution_count": 9,
     "metadata": {},
     "output_type": "execute_result"
    }
   ],
   "source": [
    "l, m = initializeZ(100, 1, 1)\n",
    "dea3 = DEA(l, m)\n",
    "bcc=dea3.bcc_input()\n",
    "eff_bcc=bcc['efficiency']\n",
    "vrs=dea3.fdh_input_vrs()\n",
    "eff_vrs=vrs['efficiency']\n",
    "data_FDH = np.array(eff_vrs).reshape(-1, 1)  \n",
    "data_DEA = np.array(eff_bcc).reshape(-1, 1)  \n",
    "from li_test import li_test\n",
    "li_test(data_FDH, data_DEA, continuous_idx=[0], discrete_idx=[],alpha=0.05, n_boot=400)"
   ]
  },
  {
   "cell_type": "code",
   "execution_count": 10,
   "metadata": {},
   "outputs": [
    {
     "data": {
      "text/plain": [
       "(0.5225, 55.17178054942547)"
      ]
     },
     "execution_count": 10,
     "metadata": {},
     "output_type": "execute_result"
    }
   ],
   "source": [
    "l, m = initializeZ(200, 1, 1)\n",
    "dea3 = DEA(l, m)\n",
    "bcc=dea3.bcc_input()\n",
    "eff_bcc=bcc['efficiency']\n",
    "vrs=dea3.fdh_input_vrs()\n",
    "eff_vrs=vrs['efficiency']\n",
    "data_FDH = np.array(eff_vrs).reshape(-1, 1)  \n",
    "data_DEA = np.array(eff_bcc).reshape(-1, 1)  \n",
    "from li_test import li_test\n",
    "li_test(data_FDH, data_DEA, continuous_idx=[0], discrete_idx=[],alpha=0.05, n_boot=400)"
   ]
  },
  {
   "cell_type": "code",
   "execution_count": 12,
   "metadata": {},
   "outputs": [
    {
     "data": {
      "text/plain": [
       "(0.53, 111.18628833827563)"
      ]
     },
     "execution_count": 12,
     "metadata": {},
     "output_type": "execute_result"
    }
   ],
   "source": [
    "l, m = initializeZ(500, 1, 1)\n",
    "dea3 = DEA(l, m)\n",
    "bcc=dea3.bcc_input()\n",
    "eff_bcc=bcc['efficiency']\n",
    "vrs=dea3.fdh_input_vrs()\n",
    "eff_vrs=vrs['efficiency']\n",
    "data_FDH = np.array(eff_vrs).reshape(-1, 1)  \n",
    "data_DEA = np.array(eff_bcc).reshape(-1, 1)  \n",
    "from li_test import li_test\n",
    "li_test(data_FDH, data_DEA, continuous_idx=[0], discrete_idx=[],alpha=0.05, n_boot=400)"
   ]
  },
  {
   "cell_type": "code",
   "execution_count": 13,
   "metadata": {},
   "outputs": [
    {
     "data": {
      "text/plain": [
       "(0.47, 30.96700769876178)"
      ]
     },
     "execution_count": 13,
     "metadata": {},
     "output_type": "execute_result"
    }
   ],
   "source": [
    "l, m = initializeZ(800, 1, 1)\n",
    "dea3 = DEA(l, m)\n",
    "bcc=dea3.bcc_input()\n",
    "eff_bcc=bcc['efficiency']\n",
    "vrs=dea3.fdh_input_vrs()\n",
    "eff_vrs=vrs['efficiency']\n",
    "data_FDH = np.array(eff_vrs).reshape(-1, 1)  \n",
    "data_DEA = np.array(eff_bcc).reshape(-1, 1)  \n",
    "from li_test import li_test\n",
    "li_test(data_FDH, data_DEA, continuous_idx=[0], discrete_idx=[],alpha=0.05, n_boot=400)"
   ]
  },
  {
   "cell_type": "code",
   "execution_count": 19,
   "metadata": {},
   "outputs": [
    {
     "data": {
      "text/plain": [
       "(0.005, 2.277446211811337)"
      ]
     },
     "execution_count": 19,
     "metadata": {},
     "output_type": "execute_result"
    }
   ],
   "source": [
    "eff_bcc=[1,2,3,4]\n",
    "eff_vrs=[5,6,7,8]\n",
    "data_FDH = np.array(eff_vrs).reshape(-1, 1)  \n",
    "data_DEA = np.array(eff_bcc).reshape(-1, 1)  \n",
    "from li_test import li_test\n",
    "li_test(data_FDH, data_DEA, continuous_idx=[0], discrete_idx=[],alpha=0.05, n_boot=400)"
   ]
  },
  {
   "cell_type": "code",
   "execution_count": 20,
   "metadata": {},
   "outputs": [
    {
     "data": {
      "text/plain": [
       "(0.82, -0.43413455653812016)"
      ]
     },
     "execution_count": 20,
     "metadata": {},
     "output_type": "execute_result"
    }
   ],
   "source": [
    "eff_bcc=[1,2,3,4]\n",
    "eff_vrs=[1,2,3,4]\n",
    "data_FDH = np.array(eff_vrs).reshape(-1, 1)  \n",
    "data_DEA = np.array(eff_bcc).reshape(-1, 1)  \n",
    "from li_test import li_test\n",
    "li_test(data_FDH, data_DEA, continuous_idx=[0], discrete_idx=[],alpha=0.05, n_boot=400)"
   ]
  }
 ],
 "metadata": {
  "kernelspec": {
   "display_name": "Python 3",
   "language": "python",
   "name": "python3"
  },
  "language_info": {
   "codemirror_mode": {
    "name": "ipython",
    "version": 3
   },
   "file_extension": ".py",
   "mimetype": "text/x-python",
   "name": "python",
   "nbconvert_exporter": "python",
   "pygments_lexer": "ipython3",
   "version": "3.12.7"
  }
 },
 "nbformat": 4,
 "nbformat_minor": 2
}
