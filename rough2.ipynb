{
 "cells": [
  {
   "cell_type": "code",
   "execution_count": 2,
   "metadata": {},
   "outputs": [],
   "source": [
    "# import matplotlib.pyplot as plt\n",
    "# from sklearn.tree import DecisionTreeRegressor, plot_tree\n",
    "# from sklearn.datasets import make_regression\n",
    "# import numpy as np\n",
    "# import pandas as pd\n",
    "# from mpl_toolkits.mplot3d import Axes3D\n",
    "# from models.modelsFDH import FDH\n",
    "# import eat\n",
    "# import graphviz\n",
    "# from utils.is_efficient import is_efficient\n",
    "# from utils.datainput import initializeUnif"
   ]
  },
  {
   "cell_type": "code",
   "execution_count": 3,
   "metadata": {},
   "outputs": [],
   "source": [
    "# l, m = initializeUnif(50, 1, 1, 2, 6)"
   ]
  },
  {
   "cell_type": "markdown",
   "metadata": {},
   "source": [
    "<!--  -->"
   ]
  },
  {
   "cell_type": "code",
   "execution_count": 4,
   "metadata": {},
   "outputs": [],
   "source": [
    "# l"
   ]
  },
  {
   "cell_type": "code",
   "execution_count": 5,
   "metadata": {},
   "outputs": [],
   "source": [
    "# m"
   ]
  },
  {
   "cell_type": "code",
   "execution_count": 6,
   "metadata": {},
   "outputs": [],
   "source": [
    "# fdh = FDH(l, m)"
   ]
  },
  {
   "cell_type": "code",
   "execution_count": 7,
   "metadata": {},
   "outputs": [],
   "source": [
    "# fdh.fdh_output_vrs()"
   ]
  },
  {
   "cell_type": "code",
   "execution_count": 8,
   "metadata": {},
   "outputs": [],
   "source": [
    "# fdh.plot_fdh('fdh_output_vrs')"
   ]
  },
  {
   "cell_type": "code",
   "execution_count": 19,
   "metadata": {},
   "outputs": [],
   "source": [
    "def monte_carlo_testing():\n",
    "    results = {}\n",
    "    for scenario_id, scenario in SCENARIOS.items():\n",
    "\n",
    "        for n in SAMPLE_SIZES:\n",
    "            mse_fdh_list, mse_eat_list = [], []\n",
    "            bias_fdh_list, bias_eat_list = [], []\n",
    "            abs_bias_fdh_list, abs_bias_eat_list = [], []\n",
    "\n",
    "            for _ in range(TRIALS):\n",
    "\n",
    "                # print(\"scen\", scenario_id, \"n\", n, \"_\", _)\n",
    "                x, y, inefficiency = generate_data(scenario, n)\n",
    "\n",
    "                print(\"y\", y.shape)\n",
    "                print('id', scenario_id)\n",
    "                print(y)\n",
    "\n",
    "                fdh = FDH(x, y)\n",
    "                df = fdh.fdh_output_vrs()\n",
    "                y_fdh = y * df[\"efficiency\"].values.reshape(-1, 1)\n",
    "\n",
    "                df = pd.DataFrame(\n",
    "                    x, columns=[f\"x[{i}]\" for i in range(scenario[\"inputs\"])]\n",
    "                )\n",
    "                df[[f\"y[{i}]\" for i in range(scenario[\"outputs\"])]] = y\n",
    "\n",
    "                eat_model = eat.EAT(\n",
    "                    df,\n",
    "                    [f\"x[{i}]\" for i in range(scenario[\"inputs\"])],\n",
    "                    [f\"y[{i}]\" for i in range(scenario[\"outputs\"])],\n",
    "                    5, 5)\n",
    "                eat_model.fit()\n",
    "\n",
    "                x_p = [f\"x[{i}]\" for i in range(scenario[\"inputs\"])]\n",
    "\n",
    "                data_pred = df.loc[:, x_p]\n",
    "                y_eat = eat_model.predict(data_pred, x_p)\n",
    "\n",
    "                y_eat = y_eat[[f\"p_y[{i}]\" for i in range(scenario[\"outputs\"])]]\n",
    "\n",
    "                mse_fdh, bias_fdh, abs_bias_fdh = calculate_metrics(y, y_fdh)\n",
    "                mse_fdh_list.append(mse_fdh)\n",
    "                bias_fdh_list.append(bias_fdh)\n",
    "                abs_bias_fdh_list.append(abs_bias_fdh)\n",
    "\n",
    "                mse_eat, bias_eat, abs_bias_eat = calculate_metrics(y, y_eat)\n",
    "                mse_eat_list.append(mse_eat)\n",
    "                bias_eat_list.append(bias_eat)\n",
    "                abs_bias_eat_list.append(abs_bias_eat)\n",
    "\n",
    "            results[(scenario_id, n)] = {\n",
    "                \"FDH_MSE\": np.mean(mse_fdh_list),\n",
    "                \"EAT_MSE\": np.mean(mse_eat_list),\n",
    "                \"FDH_Bias\": np.mean(bias_fdh_list),\n",
    "                \"EAT_Bias\": np.mean(bias_eat_list),\n",
    "                \"FDH_AbsBias\": np.mean(abs_bias_fdh_list),\n",
    "                \"EAT_AbsBias\": np.mean(abs_bias_eat_list),\n",
    "            }\n",
    "\n",
    "    return results\n",
    "\n",
    "def calculate_metrics(true_values, estimates):\n",
    "    mse = np.mean((estimates - true_values) ** 2)\n",
    "    bias = np.mean(estimates - true_values)\n",
    "    abs_bias = np.mean(np.abs(estimates - true_values))\n",
    "    return mse, bias, abs_bias\n"
   ]
  },
  {
   "cell_type": "code",
   "execution_count": 32,
   "metadata": {},
   "outputs": [
    {
     "name": "stdout",
     "output_type": "stream",
     "text": [
      "12 9\n",
      "y (12, 1)\n",
      "id 4\n",
      "[[34396774.9975472 ]\n",
      " [34396775.29872268]\n",
      " [34396775.22456571]\n",
      " [34396774.75999922]\n",
      " [34396774.21053687]\n",
      " [34396775.28300351]\n",
      " [34396775.05864725]\n",
      " [34396774.99182981]\n",
      " [34396775.31279156]\n",
      " [34396775.25559931]\n",
      " [34396774.95572067]\n",
      " [34396775.23947644]]\n"
     ]
    }
   ],
   "source": [
    "import numpy as np\n",
    "import matplotlib.pyplot as plt\n",
    "import eat\n",
    "import pandas as pd\n",
    "from models.modelsFDH import FDH\n",
    "\n",
    "TRIALS = 1\n",
    "SAMPLE_SIZES = [12]\n",
    "\n",
    "SCENARIOS = {\n",
    "    4: {\"inputs\": 9,\n",
    "        \"outputs\": 1,\n",
    "        \"func\": lambda *x: np.prod([xi**0.1 for xi in x]),\n",
    "        \"inefficiency\": lambda n: np.abs(np.random.normal(0, 0.4, size=n))},\n",
    "}\n",
    "\n",
    "scenario = SCENARIOS[4]\n",
    "x = np.random.uniform(1, 10, size=(12, scenario[\"inputs\"]))\n",
    "x\n",
    "scenario['func'](*x.T)  \n",
    "\n",
    "def generate_data(scenario, n):\n",
    "    x = np.random.uniform(1, 10, size=(n, scenario[\"inputs\"]))\n",
    "    if scenario[\"inputs\"] == 9:        \n",
    "        # for row in x:\n",
    "            # print('prod', np.prod([xi**0.1 for xi in row]))\n",
    "        # print(x)\n",
    "\n",
    "\n",
    "        print(*x.shape)\n",
    "        \n",
    "        # print([xi for xi in x])\n",
    "        \n",
    "        \n",
    "        # np.prod([xi**0.1 for xi in *x])\n",
    "        \n",
    "        \n",
    "        y = scenario[\"func\"](x)  # Fixed computation of y\n",
    "\n",
    "\n",
    "    else:\n",
    "        raise NotImplementedError(\"Only 1, 2, 3, and 9 inputs are supported.\")\n",
    "\n",
    "    inefficiency = scenario[\"inefficiency\"](n)\n",
    "    output = y - inefficiency\n",
    "    output = output.reshape(n, scenario[\"outputs\"])\n",
    "\n",
    "    return x, output, inefficiency\n",
    "\n",
    "\n",
    "results = monte_carlo_testing()\n"
   ]
  },
  {
   "cell_type": "code",
   "execution_count": 35,
   "metadata": {},
   "outputs": [
    {
     "name": "stdout",
     "output_type": "stream",
     "text": [
      "Y (computed output):\n",
      " [[3.13487696]\n",
      " [3.48885629]\n",
      " [4.47141682]\n",
      " [3.85419835]\n",
      " [3.93665319]\n",
      " [4.71730741]\n",
      " [4.56507842]\n",
      " [2.89087819]\n",
      " [3.37710578]\n",
      " [4.65791749]\n",
      " [5.35054253]\n",
      " [3.39685134]]\n"
     ]
    }
   ],
   "source": [
    "import numpy as np\n",
    "import matplotlib.pyplot as plt\n",
    "import pandas as pd\n",
    "from models.modelsFDH import FDH\n",
    "\n",
    "TRIALS = 1\n",
    "SAMPLE_SIZES = [12]\n",
    "\n",
    "SCENARIOS = {\n",
    "    4: {\n",
    "        \"inputs\": 9,\n",
    "        \"outputs\": 1,\n",
    "        \"func\": lambda x: np.prod(x**0.1, axis=1, keepdims=True),  # Fixed row-wise product\n",
    "        \"inefficiency\": lambda n: np.abs(np.random.normal(0, 0.4, size=n)),\n",
    "    }\n",
    "}\n",
    "\n",
    "scenario = SCENARIOS[4]\n",
    "\n",
    "def generate_data(scenario, n):\n",
    "    x = np.random.uniform(1, 10, size=(n, scenario[\"inputs\"]))\n",
    "    \n",
    "    if scenario[\"inputs\"] == 9:        \n",
    "        y = scenario[\"func\"](x)  # Now correctly computing row-wise product\n",
    "\n",
    "    else:\n",
    "        raise NotImplementedError(\"Only 1, 2, 3, and 9 inputs are supported.\")\n",
    "\n",
    "    inefficiency = scenario[\"inefficiency\"](n).reshape(n, 1)\n",
    "    output = y - inefficiency\n",
    "\n",
    "    return x, output, inefficiency\n",
    "\n",
    "# Example usage\n",
    "x, output, inefficiency = generate_data(scenario, 12)\n",
    "# print(\"X:\\n\", x)\n",
    "print(\"Y (computed output):\\n\", output)\n",
    "# print(\"Inefficiency:\\n\", inefficiency)\n"
   ]
  },
  {
   "cell_type": "code",
   "execution_count": null,
   "metadata": {},
   "outputs": [],
   "source": []
  }
 ],
 "metadata": {
  "kernelspec": {
   "display_name": "Python 3",
   "language": "python",
   "name": "python3"
  },
  "language_info": {
   "codemirror_mode": {
    "name": "ipython",
    "version": 3
   },
   "file_extension": ".py",
   "mimetype": "text/x-python",
   "name": "python",
   "nbconvert_exporter": "python",
   "pygments_lexer": "ipython3",
   "version": "3.12.7"
  }
 },
 "nbformat": 4,
 "nbformat_minor": 2
}
